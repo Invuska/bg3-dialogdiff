{
 "cells": [
  {
   "cell_type": "code",
   "execution_count": 14,
   "outputs": [
    {
     "name": "stderr",
     "output_type": "stream",
     "text": [
      "C:\\Users\\dakil\\miniconda3\\envs\\bg3_tools\\Lib\\site-packages\\fuzzywuzzy\\fuzz.py:11: UserWarning: Using slow pure-python SequenceMatcher. Install python-Levenshtein to remove this warning\n",
      "  warnings.warn('Using slow pure-python SequenceMatcher. Install python-Levenshtein to remove this warning')\n"
     ]
    }
   ],
   "source": [
    "import streamlit as st\n",
    "from glob import glob\n",
    "from bs4 import BeautifulSoup\n",
    "from tqdm import tqdm\n",
    "from html2text import html2text\n",
    "from collections import defaultdict\n",
    "from fuzzywuzzy import fuzz"
   ],
   "metadata": {
    "collapsed": false,
    "ExecuteTime": {
     "end_time": "2023-09-21T13:12:35.918855400Z",
     "start_time": "2023-09-21T13:12:35.905855600Z"
    }
   },
   "id": "556167c6c1fe9857"
  },
  {
   "cell_type": "code",
   "execution_count": 23,
   "id": "initial_id",
   "metadata": {
    "collapsed": true,
    "ExecuteTime": {
     "end_time": "2023-09-21T19:09:40.416598200Z",
     "start_time": "2023-09-21T19:07:04.219487400Z"
    }
   },
   "outputs": [
    {
     "name": "stderr",
     "output_type": "stream",
     "text": [
      "0it [00:00, ?it/s]\n",
      "100%|██████████| 9218/9218 [02:35<00:00, 59.17it/s] \n"
     ]
    }
   ],
   "source": [
    "dialogue_files_latter = list(glob(\"data/1.2 - Patch 2/**/*.html\", recursive=True))\n",
    "dialogue_files_former = list(glob(\"data/1.0 - Launch Day/**/*.html\", recursive=True))\n",
    "\n",
    "former_lines_dict = defaultdict(set)\n",
    "latter_lines_dict = defaultdict(set)\n",
    "for fn in tqdm(dialogue_files_former):\n",
    "    file = open(fn, \"r\", encoding='latin-1')\n",
    "    index = file.read()\n",
    "    source = BeautifulSoup(index, 'html')\n",
    "    div_elements = source.find_all('div', class_=\"npc\")\n",
    "    for div_element in div_elements:\n",
    "        character = div_element.text\n",
    "        dialog_span = div_element.find_next('span', class_='dialog')\n",
    "        former_lines_dict[character].add(html2text(str(dialog_span)).strip())\n",
    "\n",
    "for fn in tqdm(dialogue_files_latter):\n",
    "    file = open(fn, \"r\", encoding='latin-1')\n",
    "    index = file.read()\n",
    "    source = BeautifulSoup(index, 'html')\n",
    "    div_elements = source.find_all('div', class_=\"npc\")\n",
    "    for div_element in div_elements:\n",
    "        character = div_element.text\n",
    "        dialog_span = div_element.find_next('span', class_='dialog')\n",
    "        latter_lines_dict[character].add(html2text(str(dialog_span)).strip())"
   ]
  },
  {
   "cell_type": "markdown",
   "source": [],
   "metadata": {
    "collapsed": false
   },
   "id": "496285dfc0ae3997"
  },
  {
   "cell_type": "code",
   "execution_count": 7,
   "outputs": [],
   "source": [
    "all_characters = set(list(former_lines_dict.keys()) + list(latter_lines_dict.keys()))"
   ],
   "metadata": {
    "collapsed": false,
    "ExecuteTime": {
     "end_time": "2023-09-21T12:34:57.291798100Z",
     "start_time": "2023-09-21T12:34:57.284282300Z"
    }
   },
   "id": "73e047729ba1462a"
  },
  {
   "cell_type": "code",
   "execution_count": 22,
   "outputs": [
    {
     "name": "stdout",
     "output_type": "stream",
     "text": [
      "Mizora\n",
      "New Lines set()\n",
      "changed_lines [(\"Just because you're not my pet doesn't mean you're not useful.\", \"Just because he's not my pet doesn't mean he's not useful.\")]\n",
      "Orin\n",
      "New Lines set()\n",
      "changed_lines [(\"Bah! But he must lead the murdermarch to Baldur's Grave.\", \"But he must lead the murdermarch to Baldur's Grave.\")]\n",
      "Wulbren Bongle\n",
      "New Lines set()\n",
      "changed_lines [('Efficent? Good.', 'Efficient? Good.')]\n",
      "Shadowheart\n",
      "New Lines {\"You know... I had my suspicions, but I didn't want to act on them. And now it\\nseems I won't have to.\"}\n",
      "changed_lines [(\"But imagine what we might achieve if we channeled some of that hostility back\\nat our real foes instead of each other. They wouldn't stand a chance.\", \"But imagine what we might achieve if we channelled some of that hostility back\\nat our real foes instead of each other. They wouldn't stand a chance.\"), (\"I'll give you all that I can. Just don't call it. love.\", \"I'll give you all that I can. Just don't call it love.\")]\n",
      "Astarion\n",
      "New Lines set()\n",
      "changed_lines [(\"|Try to remember the runes on your back and carve them on Cazador's back.|\", \"Try to remember the runes on your back and carve them into Cazador's flesh.\"), (\"I just... I don't know what to think. I don't know what I want.\", \"...I don't know what to think. I don't know what I want.\"), (\"Slipperly little bugger, isn't he? He'll be looking for somewhere safe -\\nsomewhere where the shadows are nice and strong.\", \"Slippery little bugger, isn't he? He'll be looking for somewhere safe -\\nsomewhere where the shadows are nice and strong.\")]\n",
      "Nightwarden Minthara\n",
      "New Lines set()\n",
      "changed_lines [('Controlling an unruly slave by holding a knife to the throat of their child is\\na time-honored tactic - the collars and hostages work on the same principle.', 'Controlling an unruly slave by holding a knife to the throat of their child is\\na time-honoured tactic - the collars and hostages work on the same principle.')]\n",
      "The Emperor\n",
      "New Lines set()\n",
      "changed_lines [('_Vlaakith wanted his power, but Orpheus rose against her. And so she sealed\\nhim and his loyal honour guard within this Prism._', '_Vlaakith wanted his power, but Orpheus rose against her. And so she sealed\\nhim and his honour guard within this Prism._')]\n",
      "Jaheira\n",
      "New Lines set()\n",
      "changed_lines [('It it abominable that you still live: you who has cost us so much. The\\nmurderer of light.', 'It is abominable that you still live - you who has cost us so much. The\\nmurderer of light.'), (\"So I returned to the fold. Returned to the city. Eventually, they hung a title\\naround my neck: 'High Harper', and I _still_ do not know how to play one.\", \"So I returned to the fold. Returned to the city. Eventually, they hung a title\\naround my neck: 'High Harper'. And I _still_ do not know how to play one.\")]\n",
      "Pilgrim Iong\n",
      "New Lines set()\n",
      "changed_lines [(\"Wait your turn. I'll be the first of us to swear to the General.\", \"Back of the line. I'll be the first of us to swear to the General.\")]\n",
      "Wyll\n",
      "New Lines {\"The girl's in a fix. It's a hero's duty to step in.\"}\n",
      "changed_lines [('I wager diplomacy may be in order. I could use a breather.', 'I reckon diplomacy may be in order. The Blade could use a breather.'), ('Yes. But first, a question. If your home city were under siege, what would you\\nsacrifice to save it?', 'Yes. But first, a question. If your home were under siege, what would you\\nsacrifice to save it?'), (\"My contract is _very clear_ I can bring Mizora to no harm: she'll have to let\\nme out of my pact willingly.\", \"My contract is _very clear_ I can bring Mizora no harm: she'll have to let me\\nout of my pact willingly.\"), (\"Ha! Oh, the Blade doesn't _sulk_. I was just reflecting on what has happened,\\nand not wanting to be Mister serious at a celebration.\", \"Ha! Oh, the Blade doesn't _sulk_. I was just reflecting on what has happened,\\nand not wanting to be Mister Serious at a celebration.\"), (\"I wager Dror Ragzlin's the goblin in charge, the way this one's carrying on.\", \"I reckon Dror Ragzlin's the gobbo in charge, the way this one's carrying on.\")]\n",
      "Lord Enver Gortash\n",
      "New Lines set()\n",
      "changed_lines [('Your presence here means your lord sees a purpose for you still.', 'Your presence here means your lord sees a purpose for you yet.')]\n",
      "Youth Rheg'zel\n",
      "New Lines set()\n",
      "changed_lines [(\"If you see her, tell her that I'm training twice as hard. No, three times as\\nhard!\", \"If you see her, tell her I'm training twice as hard. No, three times as hard!\")]\n",
      "Sazza\n",
      "New Lines set()\n",
      "changed_lines [(\"I'm gonna bite the 'eads of yer kids. An' yer birdies. An' yer dogs!\", \"I'm gonna bite the 'eads off yer kids. An' yer birdies. An' yer dogs!\")]\n",
      "Narrator\n",
      "New Lines set()\n",
      "changed_lines [(\"Mizora channeled the Hells' essence into you - you'll never be rid of their\\nscent.\", \"Mizora channelled the Hells' essence into you - you'll never be rid of their\\nscent.\"), (\"*Here likes Bargus Freely. He should've lookt before he leapt.*\", \"*Here lies Bargus Freely. He should've lookt before he leapt.*\"), (\"*The guard's words are clear, but spoken without thought or intent. Behind her eyes you see - nothing. She must one of the charmed thralls Astarion mentioned.*\", \"*The guard's words are clear, but spoken without thought or intent. Behind her eyes you see - nothing. She must be one of the charmed thralls Astarion mentioned.*\"), ('*Mighty Branwem. The Foehammer grants you honor in death.*', '*Mighty Branwem. The Foehammer grants you honour in death.*'), ('*An older man turns his head away in shame. His neighbours would not renounce SelÃ»ne - now the hang in the town square.*', '*An older man turns his head away in shame. His neighbours would not renounce SelÃ»ne - now they hang in the town square.*'), ('*The goblin slinks backwards, afraid to take his eyes off you.*', '*The goblins slink backwards, afraid to take their eyes off you.*'), ('*Here lies Melodia Thorm, beloved wife and mother. _Ai armiel telere maenen hir_.* _< br>_', '*Here lies Melodia Thorm, beloved wife and mother. _Ai armiel telere maenen hir._ *')]\n",
      "Kith'rak Therezzyn\n",
      "New Lines set()\n",
      "changed_lines [('In response, they sent us an Inquisitor. Instead of ordering an assault, we\\nwere told to join in this mad hunt for an ancient relic.', 'In response, they sent an Inquisitor. Instead of ordering an assault, we were\\ntold to join in this mad hunt for an ancient relic.')]\n",
      "Balthazar\n",
      "New Lines {'Ah, the interloper - and in one piece as well. Not an entirely unpromising\\nspecimen, for one _naturally-born_.'}\n",
      "changed_lines []\n",
      "Brynna\n",
      "New Lines set()\n",
      "changed_lines [('Your words are her command. She grants you the power to enforce her will.', 'Your words are Her command. She grants you the power to enforce Her will.'), ('A True Soul - like you - has been chosen by the Absolute. You speak with her\\nvoice.', 'A True Soul - like you - has been chosen by the Absolute. You speak with Her\\nvoice.')]\n",
      "Oathbreaker Knight\n",
      "New Lines set()\n",
      "changed_lines [('Then hold to you oath. Let it be a comfort and a guide.', 'Then hold to your oath. Let it be a comfort and a guide.')]\n",
      "Gale\n",
      "New Lines set()\n",
      "changed_lines [('Alas, our fledgling acquiantanceship has not yet taken flight. Such intimacy\\nwill have to wait.', 'Alas, our fledgling acquaintanceship has not yet taken flight. Such intimacy\\nwill have to wait.'), ('Handing that crown to this devil would be like feeding gunpowder to a lava\\nworm. Agree to _nothing_', 'Handing that crown to this devil would be like feeding gunpowder to a lava\\nworm. Agree to _nothing_.'), (\"After so long being cared for by someone else, it feels good to have repaid\\nthe favour. Not directly to Tara, but to those poor tieflings. I'm sure she\\nwould approve.\", \"After so long being cared for by someone else, it feels good to have repaid\\nthe favour. Not directly to Tara, but to these poor tieflings. I'm sure she\\nwould approve.\")]\n",
      "Ghustil Stornugoss\n",
      "New Lines set()\n",
      "changed_lines [(\"Well, whatever matter yor skull contains, it clearly isn't cerebral in nature.\\nCeremorphosis is no threat to you.\", \"Well, whatever matter your skull contains, it clearly isn't cerebral in\\nnature. Ceremorphosis is no threat to you.\")]\n",
      "Mamzell Amira\n",
      "New Lines set()\n",
      "changed_lines [(\"Truth is, Ffion's gone well missing. And my hands may be skillful, but they\\nwere not made to turn every last stone she might be hiding behind.\", \"Truth is, Ffion's gone well missing. And my hands may be skilful, but they\\nwere not made to turn every last stone she might be hiding behind.\")]\n",
      "Lae'zel\n",
      "New Lines set()\n",
      "changed_lines [(\"\\\\- but you have stoked fired I didn't know I possessed.\", \"\\\\- but you have stoked fires I didn't know I possessed.\"), (\"Mother Gith's son lives, caged by a prison of your design. Our people deserve\\ntruth - but you have denied it to us.\", \"Mother Gith's son lives, caged by a prison of your design. Our people deserve\\nthe truth - but you have denied it to us.\"), (\"It's not your form that appalls me. It's your contempt.\", \"It's not your form that appals me. It's your contempt.\"), (\"Such blazing wonder - the sky swarming with red dragons. They may roar\\nVaakith's name, but I can't deny their beauty.\", \"Such blazing wonder, to stand together and behold the sky swarming with red\\ndragons - they may roar Vlaakith's name, but I can't deny their beauty.\"), (\"The artefact is closed to me. But it's protection is an advantage - as is\\nhaving a skillful cleric at my side.\", 'The artefact is closed to me. But its protection is an advantage - as is\\nhaving a skilful cleric at my side.'), (\"_Tir'su_ script, scratched in the ground. As I expected: the crÃ¨che must be\\nnested in the temple below.\", \"_Tir'su_ script, scratched in the ground. As I thought - the crÃ¨che is nested\\nin the temple below.\"), (\"Such blazing wonder - the sky swarming with red dragons. They may roar\\nVaakith's name, but I can't deny their beauty.\", \"Such blazing wonder - the sky swarming with red dragons. They may roar\\nVlaakith's name, but I can't deny their beauty.\")]\n",
      "Thrumbo\n",
      "New Lines set()\n",
      "changed_lines [(\"I'm not stupid. I saw what he did to my friend. Gods, how I'd love to _smash_\\nthat bastard jar. That's how you kill mummy lords, you know.\", \"I'm not stupid. I know what he did to my friend. Gods, how I'd love to _smash_\\nthat bastard jar. That's how you kill mummy lords, you know.\")]\n",
      "Halsin\n",
      "New Lines set()\n",
      "changed_lines [(\"I've been studying these parasites for a while now. Ever since I discovered\\nthese so called True Souls are infected with them.\", \"I've been studying these parasites for a while now. Ever since I discovered\\nthese so-called True Souls are infected with them.\"), ('I sincerely hope that acquring that amulet was the lesser of two evils...', 'I sincerely hope that acquiring that amulet was the lesser of two evils...')]\n",
      "Karlach\n",
      "New Lines set()\n",
      "changed_lines [(\"Is it is, you're stuck loving an in-progress tragedy with a time bomb for a\\nheart. Decisions, decisions.\", \"As it is, you're stuck loving an in-progress tragedy with a time bomb for a\\nheart. Decisions, decisions.\")]\n"
     ]
    }
   ],
   "source": [
    "for character in all_characters:\n",
    "    lines = [l for l in latter_lines_dict[character] if l not in former_lines_dict[character]]\n",
    "    new_lines = set()\n",
    "    changed_lines = []\n",
    "    for line in lines:\n",
    "        for old_line in former_lines_dict[character]:\n",
    "            if fuzz.ratio(line, old_line) > 80:\n",
    "                changed_lines.append((old_line, line))\n",
    "                break\n",
    "        else:\n",
    "            new_lines.add(line)\n",
    "    \n",
    "    if any([len(new_lines) > 0, len(changed_lines) > 0]):\n",
    "        print(character)\n",
    "        print(\"New Lines\", new_lines)\n",
    "        print(\"changed_lines\", changed_lines)"
   ],
   "metadata": {
    "collapsed": false,
    "ExecuteTime": {
     "end_time": "2023-09-21T13:20:05.597261600Z",
     "start_time": "2023-09-21T13:19:40.677355Z"
    }
   },
   "id": "29abf7f28b7c5fef"
  },
  {
   "cell_type": "code",
   "execution_count": 28,
   "outputs": [],
   "source": [
    "patches = [v.replace(\"\\\\\", '/').split('/')[1] for v in glob(\"data/*\") if \"Parser\" not in v]"
   ],
   "metadata": {
    "collapsed": false,
    "ExecuteTime": {
     "end_time": "2023-09-21T19:14:14.851308900Z",
     "start_time": "2023-09-21T19:14:14.847285200Z"
    }
   },
   "id": "5b2b6dfb12364a95"
  },
  {
   "cell_type": "code",
   "execution_count": 29,
   "outputs": [
    {
     "name": "stdout",
     "output_type": "stream",
     "text": [
      "['1.0 - Launch Day', '1.2 - Patch 2']\n"
     ]
    }
   ],
   "source": [
    "print(patches)"
   ],
   "metadata": {
    "collapsed": false,
    "ExecuteTime": {
     "end_time": "2023-09-21T19:14:15.206389900Z",
     "start_time": "2023-09-21T19:14:15.204388600Z"
    }
   },
   "id": "ff310b7cba8215c2"
  },
  {
   "cell_type": "code",
   "execution_count": null,
   "outputs": [],
   "source": [],
   "metadata": {
    "collapsed": false
   },
   "id": "159406cca776de4"
  }
 ],
 "metadata": {
  "kernelspec": {
   "display_name": "Python 3",
   "language": "python",
   "name": "python3"
  },
  "language_info": {
   "codemirror_mode": {
    "name": "ipython",
    "version": 2
   },
   "file_extension": ".py",
   "mimetype": "text/x-python",
   "name": "python",
   "nbconvert_exporter": "python",
   "pygments_lexer": "ipython2",
   "version": "2.7.6"
  }
 },
 "nbformat": 4,
 "nbformat_minor": 5
}
